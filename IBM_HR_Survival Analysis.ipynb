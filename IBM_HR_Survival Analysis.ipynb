{
 "cells": [
  {
   "cell_type": "markdown",
   "metadata": {},
   "source": [
    "In this project, I am going to uncover the factors that lead to employee attrition and explore important questions such as ‘show me a breakdown of distance from home by job role and attrition’ or ‘compare average monthly income by education and attrition’. This is a fictional data set created by IBM data scientists."
   ]
  },
  {
   "cell_type": "code",
   "execution_count": 1,
   "metadata": {},
   "outputs": [
    {
     "name": "stderr",
     "output_type": "stream",
     "text": [
      "Warning message:\n",
      "\"package 'readr' was built under R version 3.4.3\"\n",
      "Attaching package: 'dplyr'\n",
      "\n",
      "The following objects are masked from 'package:stats':\n",
      "\n",
      "    filter, lag\n",
      "\n",
      "The following objects are masked from 'package:base':\n",
      "\n",
      "    intersect, setdiff, setequal, union\n",
      "\n"
     ]
    }
   ],
   "source": [
    "library(ggplot2)\n",
    "library(readr)\n",
    "library(survival)\n",
    "library(dplyr)\n",
    "options(warn=-1)"
   ]
  },
  {
   "cell_type": "markdown",
   "metadata": {},
   "source": [
    "## Load the data"
   ]
  },
  {
   "cell_type": "code",
   "execution_count": 2,
   "metadata": {
    "collapsed": true
   },
   "outputs": [],
   "source": [
    "data=read.csv(\"E:/DataArtist/THC/PeopleAnalytic/WA_Fn-UseC_-HR-Employee-Attrition.csv\")\n",
    "data$event=with(data,ifelse(Attrition==\"Yes\",1,0))\n",
    "time=data$YearsAtCompany\n",
    "event=data$event\n",
    "group=data$Gender\n",
    "survival=Surv(time,event)"
   ]
  },
  {
   "cell_type": "markdown",
   "metadata": {},
   "source": [
    "## Suvival Analysis Modeling"
   ]
  },
  {
   "cell_type": "code",
   "execution_count": 4,
   "metadata": {},
   "outputs": [
    {
     "name": "stdout",
     "output_type": "stream",
     "text": [
      "Call: survfit(formula = Surv(time, event) ~ 1)\n",
      "\n",
      "         n     events     *rmean *se(rmean)     median    0.95LCL    0.95UCL \n",
      "   1470.00     237.00      28.54       0.94      40.00      32.00         NA \n",
      "    * restricted mean with upper limit =  40 \n"
     ]
    },
    {
     "data": {
      "text/plain": [
       "Call: survfit(formula = Surv(time, event) ~ 1)\n",
       "\n",
       " time n.risk n.event survival std.err lower 95% CI upper 95% CI\n",
       "    0   1470      16    0.989 0.00271        0.984        0.994\n",
       "    1   1426      59    0.948 0.00583        0.937        0.960\n",
       "    2   1255      27    0.928 0.00690        0.914        0.941\n",
       "    3   1128      20    0.911 0.00769        0.896        0.927\n",
       "    4   1000      19    0.894 0.00851        0.877        0.911\n",
       "    5    890      21    0.873 0.00947        0.855        0.892\n",
       "    6    694       9    0.862 0.01007        0.842        0.882\n",
       "    7    618      11    0.846 0.01091        0.825        0.868\n",
       "    8    528       9    0.832 0.01173        0.809        0.855\n",
       "    9    448       8    0.817 0.01264        0.793        0.842\n",
       "   10    366      18    0.777 0.01516        0.748        0.807\n",
       "   11    246       2    0.770 0.01568        0.740        0.802\n",
       "   13    200       2    0.763 0.01644        0.731        0.796\n",
       "   14    176       2    0.754 0.01736        0.721        0.789\n",
       "   15    158       1    0.749 0.01789        0.715        0.785\n",
       "   16    138       1    0.744 0.01857        0.708        0.781\n",
       "   17    126       1    0.738 0.01934        0.701        0.777\n",
       "   18    117       1    0.732 0.02018        0.693        0.772\n",
       "   19    104       1    0.725 0.02117        0.684        0.767\n",
       "   20     93       1    0.717 0.02233        0.674        0.762\n",
       "   21     66       1    0.706 0.02449        0.660        0.756\n",
       "   22     52       1    0.692 0.02753        0.641        0.749\n",
       "   23     37       1    0.674 0.03253        0.613        0.741\n",
       "   24     35       1    0.654 0.03686        0.586        0.731\n",
       "   31     16       1    0.614 0.05256        0.519        0.726\n",
       "   32     13       1    0.566 0.06641        0.450        0.713\n",
       "   33     10       1    0.510 0.08037        0.374        0.694\n",
       "   40      1       1    0.000     NaN           NA           NA"
      ]
     },
     "metadata": {},
     "output_type": "display_data"
    },
    {
     "data": {
      "image/png": "[encoded data removed]",
      "text/plain": [
       "Plot with title \"Survival Plot\""
      ]
     },
     "metadata": {},
     "output_type": "display_data"
    }
   ],
   "source": [
    "model=survfit(Surv(time,event)~1)\n",
    "print(model,print.rmean=TRUE)\n",
    "summary(model)\n",
    "plot(model, xlab=\"Time elapsed\", ylab=\"% surviving\",main=\"Survival Plot\")"
   ]
  },
  {
   "cell_type": "markdown",
   "metadata": {},
   "source": [
    "## Survival Analysis Between Male and Feamle"
   ]
  },
  {
   "cell_type": "code",
   "execution_count": 5,
   "metadata": {},
   "outputs": [
    {
     "data": {
      "text/plain": [
       "Call: survfit(formula = Surv(time, event) ~ group)\n",
       "\n",
       "                group=Female \n",
       " time n.risk n.event survival std.err lower 95% CI upper 95% CI\n",
       "    0    588       4    0.993 0.00339        0.987        1.000\n",
       "    1    573      21    0.957 0.00845        0.940        0.974\n",
       "    2    509      10    0.938 0.01016        0.918        0.958\n",
       "    3    465       7    0.924 0.01133        0.902        0.946\n",
       "    4    409       5    0.913 0.01226        0.889        0.937\n",
       "    5    374       9    0.891 0.01398        0.864        0.918\n",
       "    6    287       3    0.881 0.01483        0.853        0.911\n",
       "    7    258       5    0.864 0.01639        0.833        0.897\n",
       "    8    222       4    0.849 0.01785        0.814        0.884\n",
       "    9    185       4    0.830 0.01968        0.793        0.870\n",
       "   10    149       6    0.797 0.02314        0.753        0.844\n",
       "   11    113       1    0.790 0.02399        0.744        0.838\n",
       "   13     92       1    0.781 0.02522        0.733        0.832\n",
       "   15     72       1    0.770 0.02710        0.719        0.825\n",
       "   17     56       1    0.757 0.02991        0.700        0.818\n",
       "   22     18       1    0.715 0.04966        0.624        0.819\n",
       "   24     11       1    0.650 0.07665        0.516        0.819\n",
       "   32      3       1    0.433 0.18404        0.188        0.996\n",
       "   33      2       1    0.217 0.17864        0.043        1.000\n",
       "   40      1       1    0.000     NaN           NA           NA\n",
       "\n",
       "                group=Male \n",
       " time n.risk n.event survival std.err lower 95% CI upper 95% CI\n",
       "    0    882      12    0.986 0.00390        0.979        0.994\n",
       "    1    853      38    0.942 0.00790        0.927        0.958\n",
       "    2    746      17    0.921 0.00928        0.903        0.939\n",
       "    3    663      13    0.903 0.01036        0.883        0.923\n",
       "    4    591      14    0.882 0.01159        0.859        0.905\n",
       "    5    516      12    0.861 0.01274        0.836        0.886\n",
       "    6    407       6    0.848 0.01356        0.822        0.875\n",
       "    7    360       6    0.834 0.01452        0.806        0.863\n",
       "    8    306       5    0.821 0.01551        0.791        0.852\n",
       "    9    263       4    0.808 0.01648        0.776        0.841\n",
       "   10    217      12    0.763 0.01999        0.725        0.804\n",
       "   11    133       1    0.758 0.02065        0.718        0.799\n",
       "   13    108       1    0.751 0.02161        0.709        0.794\n",
       "   14     94       2    0.735 0.02392        0.689        0.783\n",
       "   16     76       1    0.725 0.02549        0.677        0.777\n",
       "   18     66       1    0.714 0.02737        0.662        0.770\n",
       "   19     60       1    0.702 0.02938        0.647        0.762\n",
       "   20     55       1    0.689 0.03150        0.630        0.754\n",
       "   21     42       1    0.673 0.03476        0.608        0.745\n",
       "   23     26       1    0.647 0.04197        0.570        0.735\n",
       "   31     13       1    0.597 0.06154        0.488        0.731\n"
      ]
     },
     "metadata": {},
     "output_type": "display_data"
    },
    {
     "name": "stdout",
     "output_type": "stream",
     "text": [
      "\n",
      "\n",
      "Median values for the survival function by group are:\n"
     ]
    },
    {
     "data": {
      "text/html": [
       "<dl class=dl-horizontal>\n",
       "\t<dt>group=Female</dt>\n",
       "\t\t<dd>32</dd>\n",
       "\t<dt>group=Male</dt>\n",
       "\t\t<dd>&lt;NA&gt;</dd>\n",
       "</dl>\n"
      ],
      "text/latex": [
       "\\begin{description*}\n",
       "\\item[group=Female] 32\n",
       "\\item[group=Male] <NA>\n",
       "\\end{description*}\n"
      ],
      "text/markdown": [
       "group=Female\n",
       ":   32group=Male\n",
       ":   &lt;NA&gt;\n",
       "\n"
      ],
      "text/plain": [
       "group=Female   group=Male \n",
       "          32           NA "
      ]
     },
     "metadata": {},
     "output_type": "display_data"
    },
    {
     "data": {
      "image/png": "[encoded data removed]",
      "text/plain": [
       "Plot with title \"Survival Plot\""
      ]
     },
     "metadata": {},
     "output_type": "display_data"
    }
   ],
   "source": [
    "model_comp<- survfit(Surv(time,event) ~ group)\n",
    "summary(model_comp)\n",
    "\n",
    "cat(\"\\n\\nMedian values for the survival function by group are:\\n\")\n",
    "summary(model_comp)$table[,'median']\n",
    "\n",
    "\n",
    "plot(model_comp, xlab=\"Time elapsed\", ylab=\"% surviving\",main=\"Survival Plot\", legend=T, col=c('blue','red'))\n",
    "legend('bottomleft', c(\"Gender=Female\", \"Gender=Male\"), col=c('blue','red'), lty = 1, bty=\"n\")"
   ]
  }
 ],
 "metadata": {
  "kernelspec": {
   "display_name": "R",
   "language": "R",
   "name": "ir"
  },
  "language_info": {
   "codemirror_mode": "r",
   "file_extension": ".r",
   "mimetype": "text/x-r-source",
   "name": "R",
   "pygments_lexer": "r",
   "version": "3.4.1"
  }
 },
 "nbformat": 4,
 "nbformat_minor": 2
}
