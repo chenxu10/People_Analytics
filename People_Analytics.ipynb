{
 "cells": [
  {
   "cell_type": "markdown",
   "metadata": {},
   "source": [
    "# People Analytics"
   ]
  },
  {
   "cell_type": "markdown",
   "metadata": {},
   "source": [
    "Employee turn over is a very costly problem for a company. The cost of replacing an old employee is huge adding the time and effort.\n",
    "\n",
    "In this project, I am going to use data science to understand why and where employees are more tend to move and give out some of my quantitative conclusion.\n",
    "\n",
    "By understanding the main reasons of employee churn, the company can have better action on how to improve the employee retention rate."
   ]
  },
  {
   "cell_type": "markdown",
   "metadata": {},
   "source": [
    "# Index:\n",
    "* [Data Acquistion](#Data Acquistion)\n",
    "+ [Data Cleaning](#Data Cleaning)\n",
    "  + [Create a company_headcount table](#HeadCount)\n",
    "* [Exploratory Data Analysis](#Exploratory Data Analysis)\n",
    "  + [Explore the distribution of length of employment](#Distribution of Length of Employment)\n",
    "* [Feature Engineering](#Feature Engineering)\n",
    "* [Model Development and Validation](#Model Development and Validation)\n",
    "* [Actionable Insights and Discussion](#Actionable Insights and Discussion)"
   ]
  },
  {
   "cell_type": "markdown",
   "metadata": {},
   "source": [
    "## Data Acquistion"
   ]
  },
  {
   "cell_type": "markdown",
   "metadata": {},
   "source": [
    "The data set has a comprehensive information about employees. It has seven columns including employee_id, company_id, department, senority, salary, join_date and quit_date."
   ]
  },
  {
   "cell_type": "markdown",
   "metadata": {},
   "source": [
    "## Data Cleaning"
   ]
  },
  {
   "cell_type": "code",
   "execution_count": 56,
   "metadata": {},
   "outputs": [
    {
     "name": "stderr",
     "output_type": "stream",
     "text": [
      "Warning message:\n",
      "\"package 'randomForest' was built under R version 3.4.2\"randomForest 4.6-12\n",
      "Type rfNews() to see new features/changes/bug fixes.\n",
      "\n",
      "Attaching package: 'randomForest'\n",
      "\n",
      "The following object is masked from 'package:ggplot2':\n",
      "\n",
      "    margin\n",
      "\n",
      "The following object is masked from 'package:dplyr':\n",
      "\n",
      "    combine\n",
      "\n"
     ]
    }
   ],
   "source": [
    "library(dplyr)\n",
    "library(rpart)\n",
    "library(ggplot2)\n",
    "library(scales)\n",
    "library(randomForest)"
   ]
  },
  {
   "cell_type": "code",
   "execution_count": 6,
   "metadata": {},
   "outputs": [
    {
     "name": "stdout",
     "output_type": "stream",
     "text": [
      "'data.frame':\t24702 obs. of  7 variables:\n",
      " $ employee_id: num  13021 825355 927315 662910 256971 ...\n",
      " $ company_id : int  7 7 4 7 2 4 4 2 9 1 ...\n",
      " $ dept       : Factor w/ 6 levels \"customer_service\",..: 1 5 5 1 2 2 1 1 4 6 ...\n",
      " $ seniority  : int  28 20 14 20 23 14 21 4 7 7 ...\n",
      " $ salary     : num  89000 183000 101000 115000 276000 165000 107000 30000 160000 104000 ...\n",
      " $ join_date  : Factor w/ 995 levels \"2011-01-24\",\"2011-01-25\",..: 643 459 758 264 148 205 558 633 380 280 ...\n",
      " $ quit_date  : Factor w/ 664 levels \"2011-10-13\",\"2011-10-14\",..: 643 364 NA 229 428 267 NA NA 640 NA ...\n"
     ]
    }
   ],
   "source": [
    "# load in the data\n",
    "data=read.csv(\"E:/DataArtist/THC/PeopleAnalytic/employee_retention_data.csv\")\n",
    "# observe the data \n",
    "str(data)"
   ]
  },
  {
   "cell_type": "code",
   "execution_count": 8,
   "metadata": {},
   "outputs": [
    {
     "data": {
      "text/plain": [
       "  employee_id       company_id                 dept        seniority    \n",
       " Min.   :    36   1      :8486   customer_service:9180   Min.   : 1.00  \n",
       " 1st Qu.:250134   2      :4222   data_science    :3190   1st Qu.: 7.00  \n",
       " Median :500793   3      :2749   design          :1380   Median :14.00  \n",
       " Mean   :501604   4      :2062   engineer        :4613   Mean   :14.13  \n",
       " 3rd Qu.:753137   5      :1755   marketing       :3167   3rd Qu.:21.00  \n",
       " Max.   :999969   6      :1291   sales           :3172   Max.   :99.00  \n",
       "                  (Other):4137                                          \n",
       "     salary         join_date            quit_date         \n",
       " Min.   : 17000   Min.   :2011-01-24   Min.   :2011-10-13  \n",
       " 1st Qu.: 79000   1st Qu.:2012-04-09   1st Qu.:2013-06-28  \n",
       " Median :123000   Median :2013-06-24   Median :2014-06-20  \n",
       " Mean   :138183   Mean   :2013-06-29   Mean   :2014-05-02  \n",
       " 3rd Qu.:187000   3rd Qu.:2014-09-17   3rd Qu.:2015-03-27  \n",
       " Max.   :408000   Max.   :2015-12-10   Max.   :2015-12-09  \n",
       "                                       NA's   :11192       "
      ]
     },
     "metadata": {},
     "output_type": "display_data"
    }
   ],
   "source": [
    "# change the data type in the data frame\n",
    "data$company_id=as.factor(data$company_id)\n",
    "data$join_date=as.Date(data$join_date)\n",
    "data$quit_date=as.Date(data$quit_date)\n",
    "# check the descriptive statistics of the data\n",
    "summary(data)"
   ]
  },
  {
   "cell_type": "markdown",
   "metadata": {},
   "source": [
    "### Create Company HeadCount Table"
   ]
  },
  {
   "cell_type": "code",
   "execution_count": 24,
   "metadata": {
    "collapsed": true
   },
   "outputs": [],
   "source": [
    "#create a list of unique days for the table\n",
    "unique_dates=seq(as.Date(\"2011/01/24\"),as.Date(\"2015/12/13\"),by=\"day\")\n",
    "# create a list of unique company\n",
    "unique_companies=unique(data$company_id)\n",
    "# cross join two columns\n",
    "data_headcount=merge(unique_dates,unique_companies,by=NULL)\n",
    "colnames(data_headcount)=c(\"date\",\"company_id\")\n",
    "# calculate how many people joined each day and each company\n",
    "data_join=data%>%group_by(join_date,company_id)%>%summarise(join_count=length(join_date))\n",
    "# calculate how many people leave each day and each company\n",
    "data_leave=data%>%group_by(quit_date,company_id)%>%summarise(leave_count=length(quit_date))"
   ]
  },
  {
   "cell_type": "code",
   "execution_count": 18,
   "metadata": {
    "collapsed": true
   },
   "outputs": [],
   "source": [
    "# left join the leava and join with data_headcount\n",
    "data_headcount=merge(data_headcount,data_join,by.x=c(\"date\",\"company_id\"),by.y=c(\"join_date\",\"company_id\"),all.x=TRUE)"
   ]
  },
  {
   "cell_type": "code",
   "execution_count": 19,
   "metadata": {
    "collapsed": true
   },
   "outputs": [],
   "source": [
    "data_headcount=merge(data_headcount,data_leave,by.x=c(\"date\",\"company_id\"),by.y=c(\"quit_date\",\"company_id\"),all.x=TRUE) # replace the NAs with zeros"
   ]
  },
  {
   "cell_type": "code",
   "execution_count": 20,
   "metadata": {
    "collapsed": true
   },
   "outputs": [],
   "source": [
    "data_headcount$join_count[is.na(data_headcount$join_count)]=0\n",
    "data_headcount$leave_count[is.na(data_headcount$leave_count)]=0"
   ]
  },
  {
   "cell_type": "code",
   "execution_count": 21,
   "metadata": {
    "collapsed": true
   },
   "outputs": [],
   "source": [
    "# calculate the culmulative sum of the join and leave\n",
    "data_headcount=data_headcount%>%group_by(company_id)%>%mutate(join_cumsum=cumsum(join_count),leave_cumsum=cumsum(leave_count))"
   ]
  },
  {
   "cell_type": "code",
   "execution_count": 23,
   "metadata": {},
   "outputs": [
    {
     "data": {
      "text/html": [
       "<table>\n",
       "<thead><tr><th scope=col>date</th><th scope=col>company_id</th><th scope=col>join_count</th><th scope=col>leave_count</th><th scope=col>join_cumsum</th><th scope=col>leave_cumsum</th><th scope=col>count</th></tr></thead>\n",
       "<tbody>\n",
       "\t<tr><td>2011-01-24</td><td>1         </td><td>25        </td><td>0         </td><td>25        </td><td>0         </td><td>25        </td></tr>\n",
       "\t<tr><td>2011-01-24</td><td>2         </td><td>17        </td><td>0         </td><td>17        </td><td>0         </td><td>17        </td></tr>\n",
       "\t<tr><td>2011-01-24</td><td>3         </td><td> 9        </td><td>0         </td><td> 9        </td><td>0         </td><td> 9        </td></tr>\n",
       "\t<tr><td>2011-01-24</td><td>4         </td><td>12        </td><td>0         </td><td>12        </td><td>0         </td><td>12        </td></tr>\n",
       "\t<tr><td>2011-01-24</td><td>5         </td><td> 5        </td><td>0         </td><td> 5        </td><td>0         </td><td> 5        </td></tr>\n",
       "\t<tr><td>2011-01-24</td><td>6         </td><td> 3        </td><td>0         </td><td> 3        </td><td>0         </td><td> 3        </td></tr>\n",
       "\t<tr><td>2011-01-24</td><td>7         </td><td> 1        </td><td>0         </td><td> 1        </td><td>0         </td><td> 1        </td></tr>\n",
       "\t<tr><td>2011-01-24</td><td>8         </td><td> 6        </td><td>0         </td><td> 6        </td><td>0         </td><td> 6        </td></tr>\n",
       "\t<tr><td>2011-01-24</td><td>9         </td><td> 3        </td><td>0         </td><td> 3        </td><td>0         </td><td> 3        </td></tr>\n",
       "\t<tr><td>2011-01-24</td><td>10        </td><td> 0        </td><td>0         </td><td> 0        </td><td>0         </td><td> 0        </td></tr>\n",
       "\t<tr><td>2011-01-24</td><td>11        </td><td> 0        </td><td>0         </td><td> 0        </td><td>0         </td><td> 0        </td></tr>\n",
       "\t<tr><td>2011-01-24</td><td>12        </td><td> 0        </td><td>0         </td><td> 0        </td><td>0         </td><td> 0        </td></tr>\n",
       "\t<tr><td>2011-01-25</td><td>1         </td><td> 2        </td><td>0         </td><td>27        </td><td>0         </td><td>27        </td></tr>\n",
       "\t<tr><td>2011-01-25</td><td>2         </td><td> 2        </td><td>0         </td><td>19        </td><td>0         </td><td>19        </td></tr>\n",
       "\t<tr><td>2011-01-25</td><td>3         </td><td> 1        </td><td>0         </td><td>10        </td><td>0         </td><td>10        </td></tr>\n",
       "\t<tr><td>2011-01-25</td><td>4         </td><td> 0        </td><td>0         </td><td>12        </td><td>0         </td><td>12        </td></tr>\n",
       "\t<tr><td>2011-01-25</td><td>5         </td><td> 0        </td><td>0         </td><td> 5        </td><td>0         </td><td> 5        </td></tr>\n",
       "\t<tr><td>2011-01-25</td><td>6         </td><td> 0        </td><td>0         </td><td> 3        </td><td>0         </td><td> 3        </td></tr>\n",
       "\t<tr><td>2011-01-25</td><td>7         </td><td> 0        </td><td>0         </td><td> 1        </td><td>0         </td><td> 1        </td></tr>\n",
       "\t<tr><td>2011-01-25</td><td>8         </td><td> 0        </td><td>0         </td><td> 6        </td><td>0         </td><td> 6        </td></tr>\n",
       "</tbody>\n",
       "</table>\n"
      ],
      "text/latex": [
       "\\begin{tabular}{r|lllllll}\n",
       " date & company\\_id & join\\_count & leave\\_count & join\\_cumsum & leave\\_cumsum & count\\\\\n",
       "\\hline\n",
       "\t 2011-01-24 & 1          & 25         & 0          & 25         & 0          & 25        \\\\\n",
       "\t 2011-01-24 & 2          & 17         & 0          & 17         & 0          & 17        \\\\\n",
       "\t 2011-01-24 & 3          &  9         & 0          &  9         & 0          &  9        \\\\\n",
       "\t 2011-01-24 & 4          & 12         & 0          & 12         & 0          & 12        \\\\\n",
       "\t 2011-01-24 & 5          &  5         & 0          &  5         & 0          &  5        \\\\\n",
       "\t 2011-01-24 & 6          &  3         & 0          &  3         & 0          &  3        \\\\\n",
       "\t 2011-01-24 & 7          &  1         & 0          &  1         & 0          &  1        \\\\\n",
       "\t 2011-01-24 & 8          &  6         & 0          &  6         & 0          &  6        \\\\\n",
       "\t 2011-01-24 & 9          &  3         & 0          &  3         & 0          &  3        \\\\\n",
       "\t 2011-01-24 & 10         &  0         & 0          &  0         & 0          &  0        \\\\\n",
       "\t 2011-01-24 & 11         &  0         & 0          &  0         & 0          &  0        \\\\\n",
       "\t 2011-01-24 & 12         &  0         & 0          &  0         & 0          &  0        \\\\\n",
       "\t 2011-01-25 & 1          &  2         & 0          & 27         & 0          & 27        \\\\\n",
       "\t 2011-01-25 & 2          &  2         & 0          & 19         & 0          & 19        \\\\\n",
       "\t 2011-01-25 & 3          &  1         & 0          & 10         & 0          & 10        \\\\\n",
       "\t 2011-01-25 & 4          &  0         & 0          & 12         & 0          & 12        \\\\\n",
       "\t 2011-01-25 & 5          &  0         & 0          &  5         & 0          &  5        \\\\\n",
       "\t 2011-01-25 & 6          &  0         & 0          &  3         & 0          &  3        \\\\\n",
       "\t 2011-01-25 & 7          &  0         & 0          &  1         & 0          &  1        \\\\\n",
       "\t 2011-01-25 & 8          &  0         & 0          &  6         & 0          &  6        \\\\\n",
       "\\end{tabular}\n"
      ],
      "text/markdown": [
       "\n",
       "date | company_id | join_count | leave_count | join_cumsum | leave_cumsum | count | \n",
       "|---|---|---|---|---|---|---|---|---|---|---|---|---|---|---|---|---|---|---|---|\n",
       "| 2011-01-24 | 1          | 25         | 0          | 25         | 0          | 25         | \n",
       "| 2011-01-24 | 2          | 17         | 0          | 17         | 0          | 17         | \n",
       "| 2011-01-24 | 3          |  9         | 0          |  9         | 0          |  9         | \n",
       "| 2011-01-24 | 4          | 12         | 0          | 12         | 0          | 12         | \n",
       "| 2011-01-24 | 5          |  5         | 0          |  5         | 0          |  5         | \n",
       "| 2011-01-24 | 6          |  3         | 0          |  3         | 0          |  3         | \n",
       "| 2011-01-24 | 7          |  1         | 0          |  1         | 0          |  1         | \n",
       "| 2011-01-24 | 8          |  6         | 0          |  6         | 0          |  6         | \n",
       "| 2011-01-24 | 9          |  3         | 0          |  3         | 0          |  3         | \n",
       "| 2011-01-24 | 10         |  0         | 0          |  0         | 0          |  0         | \n",
       "| 2011-01-24 | 11         |  0         | 0          |  0         | 0          |  0         | \n",
       "| 2011-01-24 | 12         |  0         | 0          |  0         | 0          |  0         | \n",
       "| 2011-01-25 | 1          |  2         | 0          | 27         | 0          | 27         | \n",
       "| 2011-01-25 | 2          |  2         | 0          | 19         | 0          | 19         | \n",
       "| 2011-01-25 | 3          |  1         | 0          | 10         | 0          | 10         | \n",
       "| 2011-01-25 | 4          |  0         | 0          | 12         | 0          | 12         | \n",
       "| 2011-01-25 | 5          |  0         | 0          |  5         | 0          |  5         | \n",
       "| 2011-01-25 | 6          |  0         | 0          |  3         | 0          |  3         | \n",
       "| 2011-01-25 | 7          |  0         | 0          |  1         | 0          |  1         | \n",
       "| 2011-01-25 | 8          |  0         | 0          |  6         | 0          |  6         | \n",
       "\n",
       "\n"
      ],
      "text/plain": [
       "   date       company_id join_count leave_count join_cumsum leave_cumsum count\n",
       "1  2011-01-24 1          25         0           25          0            25   \n",
       "2  2011-01-24 2          17         0           17          0            17   \n",
       "3  2011-01-24 3           9         0            9          0             9   \n",
       "4  2011-01-24 4          12         0           12          0            12   \n",
       "5  2011-01-24 5           5         0            5          0             5   \n",
       "6  2011-01-24 6           3         0            3          0             3   \n",
       "7  2011-01-24 7           1         0            1          0             1   \n",
       "8  2011-01-24 8           6         0            6          0             6   \n",
       "9  2011-01-24 9           3         0            3          0             3   \n",
       "10 2011-01-24 10          0         0            0          0             0   \n",
       "11 2011-01-24 11          0         0            0          0             0   \n",
       "12 2011-01-24 12          0         0            0          0             0   \n",
       "13 2011-01-25 1           2         0           27          0            27   \n",
       "14 2011-01-25 2           2         0           19          0            19   \n",
       "15 2011-01-25 3           1         0           10          0            10   \n",
       "16 2011-01-25 4           0         0           12          0            12   \n",
       "17 2011-01-25 5           0         0            5          0             5   \n",
       "18 2011-01-25 6           0         0            3          0             3   \n",
       "19 2011-01-25 7           0         0            1          0             1   \n",
       "20 2011-01-25 8           0         0            6          0             6   "
      ]
     },
     "metadata": {},
     "output_type": "display_data"
    }
   ],
   "source": [
    "data_headcount$count=data_headcount$join_cumsum-data_headcount$leave_cumsum\n",
    "data_headcount_table=data.frame(data_headcount[,c(\"date\",\"company_id\",\"count\")])\n",
    "head(data_headcount,20)"
   ]
  },
  {
   "cell_type": "markdown",
   "metadata": {},
   "source": [
    "## Exploratory Data Analysis"
   ]
  },
  {
   "cell_type": "markdown",
   "metadata": {},
   "source": [
    "### Distribution of Length of Employment"
   ]
  },
  {
   "cell_type": "code",
   "execution_count": 35,
   "metadata": {
    "scrolled": true
   },
   "outputs": [
    {
     "name": "stderr",
     "output_type": "stream",
     "text": [
      "Warning message:\n",
      "\"Removed 11192 rows containing non-finite values (stat_bin).\""
     ]
    },
    {
     "data": {},
     "metadata": {},
     "output_type": "display_data"
    },
    {
     "data": {
      "image/png": "[encoded data removed]",
      "text/plain": [
       "plot without title"
      ]
     },
     "metadata": {},
     "output_type": "display_data"
    }
   ],
   "source": [
    "data$employment_length=as.numeric(data$quit_date-data$join_date)\n",
    "# consider the seasonality factor\n",
    "data$week_of_year=as.numeric(format(data$quit_date,\"%U\"))\n",
    "# Plot the employee length in days\n",
    "qplot(data$employment_length,geom=\"histogram\",xlab=\"Length of Employment\",\n",
    "      bins=30,fill=I(\"blue\"))"
   ]
  },
  {
   "cell_type": "markdown",
   "metadata": {},
   "source": [
    "I can find that people tend to leave at the first and the second year anniversary of their employment."
   ]
  },
  {
   "cell_type": "markdown",
   "metadata": {},
   "source": [
    "## Model Development"
   ]
  },
  {
   "cell_type": "markdown",
   "metadata": {},
   "source": [
    "I am now going to build a simple decision tree model to find what's the most important factor that differentiates people work longer than 13 months and people work less than 13 months."
   ]
  },
  {
   "cell_type": "code",
   "execution_count": 39,
   "metadata": {
    "collapsed": true
   },
   "outputs": [],
   "source": [
    "data=subset(data,data$join_date<as.Date(\"2015/12/13\")-(365+31))\n",
    "data$early_quitter=as.factor(ifelse(is.na(data$quit_date)|as.numeric(data$quit_date-data$join_date)>396,0,1))"
   ]
  },
  {
   "cell_type": "code",
   "execution_count": 40,
   "metadata": {},
   "outputs": [
    {
     "data": {
      "text/plain": [
       "n= 19270 \n",
       "\n",
       "node), split, n, loss, yval, (yprob)\n",
       "      * denotes terminal node\n",
       "\n",
       "1) root 19270 9635.0000 0 (0.5000000 0.5000000)  \n",
       "  2) salary>=224500 2764  855.3351 0 (0.6528040 0.3471960) *\n",
       "  3) salary< 224500 16506 8026.7840 1 (0.4776014 0.5223986)  \n",
       "    6) salary< 62500 2887 1249.7210 0 (0.5498859 0.4501141) *\n",
       "    7) salary>=62500 13619 6500.0510 1 (0.4632968 0.5367032) *"
      ]
     },
     "metadata": {},
     "output_type": "display_data"
    }
   ],
   "source": [
    "tree=rpart(early_quitter~.,data[,c(\"company_id\",\"dept\",\"seniority\",\"early_quitter\",\"salary\")],control=rpart.control(minbucket=30,maxdepth=3,cp=0.000001),parms=list(prior=c(0.5,0.5)))\n",
    "tree"
   ]
  },
  {
   "cell_type": "markdown",
   "metadata": {},
   "source": [
    "From the decision tree, we can find that the salary is the most deciding factor of the long-term employee and early quitter."
   ]
  },
  {
   "cell_type": "markdown",
   "metadata": {},
   "source": [
    "The result of the decision tree model is consistent with my guessing, people make a lot of money and very little money in the company is very less likely to leave. The former people are very comfortable with the situation and the latter is very marketable in the job searching market. People in the middle is more likely to change the job. We will further plot the leaving rate by the salary percentile to show the trend."
   ]
  },
  {
   "cell_type": "code",
   "execution_count": 46,
   "metadata": {
    "collapsed": true
   },
   "outputs": [],
   "source": [
    "data$salary_percentile=cut(data$salary,breaks=quantile(data$salary,probs=seq(0,1,0.02)),\n",
    "                          include.lowest=TRUE,labels = 1:50)"
   ]
  },
  {
   "cell_type": "code",
   "execution_count": 47,
   "metadata": {
    "collapsed": true
   },
   "outputs": [],
   "source": [
    "data_proportion_by_percentile=data%>%\n",
    "group_by(salary_percentile)%>%\n",
    "summarize(proportion_early_quitters=length(early_quitter[early_quitter==1])/length(early_quitter))"
   ]
  },
  {
   "cell_type": "code",
   "execution_count": 51,
   "metadata": {},
   "outputs": [
    {
     "data": {},
     "metadata": {},
     "output_type": "display_data"
    },
    {
     "data": {
      "image/png": "[encoded data removed]",
      "text/plain": [
       "plot without title"
      ]
     },
     "metadata": {},
     "output_type": "display_data"
    }
   ],
   "source": [
    "qplot(salary_percentile,proportion_early_quitters,data=data_proportion_by_percentile,\n",
    "      geom=\"line\",group=1,col=\"red\")+scale_x_discrete(breaks=seq(1,50,by=2))"
   ]
  },
  {
   "cell_type": "markdown",
   "metadata": {},
   "source": [
    "From the plot, we can definitely find a U-Curve pattern. People's salary range in the middle(21%-35%) has the highest early leave rate."
   ]
  },
  {
   "cell_type": "markdown",
   "metadata": {},
   "source": [
    "### Random Forest Model"
   ]
  },
  {
   "cell_type": "markdown",
   "metadata": {},
   "source": [
    "I will also build a simple random forest model to see the rank of variable importance that will differentiate the early leaver and long-term employer."
   ]
  },
  {
   "cell_type": "code",
   "execution_count": 54,
   "metadata": {},
   "outputs": [
    {
     "data": {
      "text/html": [
       "<table>\n",
       "<thead><tr><th scope=col>employee_id</th><th scope=col>company_id</th><th scope=col>dept</th><th scope=col>seniority</th><th scope=col>salary</th><th scope=col>join_date</th><th scope=col>quit_date</th><th scope=col>employment_length</th><th scope=col>week_of_year</th><th scope=col>early_quitter</th><th scope=col>salary_percentile</th></tr></thead>\n",
       "<tbody>\n",
       "\t<tr><td> 13021          </td><td>7               </td><td>customer_service</td><td>28              </td><td> 89000          </td><td>2014-03-24      </td><td>2015-10-30      </td><td> 585            </td><td>43              </td><td>0               </td><td>15              </td></tr>\n",
       "\t<tr><td>825355          </td><td>7               </td><td>marketing       </td><td>20              </td><td>183000          </td><td>2013-04-29      </td><td>2014-04-04      </td><td> 340            </td><td>13              </td><td>1               </td><td>37              </td></tr>\n",
       "\t<tr><td>927315          </td><td>4               </td><td>marketing       </td><td>14              </td><td>101000          </td><td>2014-10-13      </td><td>NA              </td><td>  NA            </td><td>NA              </td><td>0               </td><td>19              </td></tr>\n",
       "\t<tr><td>662910          </td><td>7               </td><td>customer_service</td><td>20              </td><td>115000          </td><td>2012-05-14      </td><td>2013-06-07      </td><td> 389            </td><td>22              </td><td>1               </td><td>23              </td></tr>\n",
       "\t<tr><td>256971          </td><td>2               </td><td>data_science    </td><td>23              </td><td>276000          </td><td>2011-10-17      </td><td>2014-08-22      </td><td>1040            </td><td>33              </td><td>0               </td><td>47              </td></tr>\n",
       "\t<tr><td>509529          </td><td>4               </td><td>data_science    </td><td>14              </td><td>165000          </td><td>2012-01-30      </td><td>2013-08-30      </td><td> 578            </td><td>34              </td><td>0               </td><td>34              </td></tr>\n",
       "</tbody>\n",
       "</table>\n"
      ],
      "text/latex": [
       "\\begin{tabular}{r|lllllllllll}\n",
       " employee\\_id & company\\_id & dept & seniority & salary & join\\_date & quit\\_date & employment\\_length & week\\_of\\_year & early\\_quitter & salary\\_percentile\\\\\n",
       "\\hline\n",
       "\t  13021             & 7                  & customer\\_service & 28                 &  89000             & 2014-03-24         & 2015-10-30         &  585               & 43                 & 0                  & 15                \\\\\n",
       "\t 825355           & 7                & marketing        & 20               & 183000           & 2013-04-29       & 2014-04-04       &  340             & 13               & 1                & 37              \\\\\n",
       "\t 927315           & 4                & marketing        & 14               & 101000           & 2014-10-13       & NA               &   NA             & NA               & 0                & 19              \\\\\n",
       "\t 662910             & 7                  & customer\\_service & 20                 & 115000             & 2012-05-14         & 2013-06-07         &  389               & 22                 & 1                  & 23                \\\\\n",
       "\t 256971             & 2                  & data\\_science     & 23                 & 276000             & 2011-10-17         & 2014-08-22         & 1040               & 33                 & 0                  & 47                \\\\\n",
       "\t 509529             & 4                  & data\\_science     & 14                 & 165000             & 2012-01-30         & 2013-08-30         &  578               & 34                 & 0                  & 34                \\\\\n",
       "\\end{tabular}\n"
      ],
      "text/markdown": [
       "\n",
       "employee_id | company_id | dept | seniority | salary | join_date | quit_date | employment_length | week_of_year | early_quitter | salary_percentile | \n",
       "|---|---|---|---|---|---|\n",
       "|  13021           | 7                | customer_service | 28               |  89000           | 2014-03-24       | 2015-10-30       |  585             | 43               | 0                | 15               | \n",
       "| 825355           | 7                | marketing        | 20               | 183000           | 2013-04-29       | 2014-04-04       |  340             | 13               | 1                | 37               | \n",
       "| 927315           | 4                | marketing        | 14               | 101000           | 2014-10-13       | NA               |   NA             | NA               | 0                | 19               | \n",
       "| 662910           | 7                | customer_service | 20               | 115000           | 2012-05-14       | 2013-06-07       |  389             | 22               | 1                | 23               | \n",
       "| 256971           | 2                | data_science     | 23               | 276000           | 2011-10-17       | 2014-08-22       | 1040             | 33               | 0                | 47               | \n",
       "| 509529           | 4                | data_science     | 14               | 165000           | 2012-01-30       | 2013-08-30       |  578             | 34               | 0                | 34               | \n",
       "\n",
       "\n"
      ],
      "text/plain": [
       "  employee_id company_id dept             seniority salary join_date \n",
       "1  13021      7          customer_service 28         89000 2014-03-24\n",
       "2 825355      7          marketing        20        183000 2013-04-29\n",
       "3 927315      4          marketing        14        101000 2014-10-13\n",
       "4 662910      7          customer_service 20        115000 2012-05-14\n",
       "5 256971      2          data_science     23        276000 2011-10-17\n",
       "6 509529      4          data_science     14        165000 2012-01-30\n",
       "  quit_date  employment_length week_of_year early_quitter salary_percentile\n",
       "1 2015-10-30  585              43           0             15               \n",
       "2 2014-04-04  340              13           1             37               \n",
       "3 <NA>         NA              NA           0             19               \n",
       "4 2013-06-07  389              22           1             23               \n",
       "5 2014-08-22 1040              33           0             47               \n",
       "6 2013-08-30  578              34           0             34               "
      ]
     },
     "metadata": {},
     "output_type": "display_data"
    }
   ],
   "source": [
    "head(data)"
   ]
  },
  {
   "cell_type": "code",
   "execution_count": 90,
   "metadata": {
    "collapsed": true
   },
   "outputs": [],
   "source": [
    "set.seed(3456)\n",
    "trainIndex=sample(nrow(data),size=nrow(data)*0.66)\n",
    "train_data=data[trainIndex,]\n",
    "test_data=data[-trainIndex,]"
   ]
  },
  {
   "cell_type": "code",
   "execution_count": 91,
   "metadata": {},
   "outputs": [
    {
     "data": {
      "text/html": [
       "<table>\n",
       "<thead><tr><th scope=col>employee_id</th><th scope=col>company_id</th><th scope=col>dept</th><th scope=col>seniority</th><th scope=col>salary</th><th scope=col>join_date</th><th scope=col>quit_date</th><th scope=col>employment_length</th><th scope=col>week_of_year</th><th scope=col>early_quitter</th><th scope=col>salary_percentile</th></tr></thead>\n",
       "<tbody>\n",
       "\t<tr><td> 13021          </td><td>7               </td><td>customer_service</td><td>28              </td><td> 89000          </td><td>2014-03-24      </td><td>2015-10-30      </td><td> 585            </td><td>43              </td><td>1               </td><td>15              </td></tr>\n",
       "\t<tr><td>825355          </td><td>7               </td><td>marketing       </td><td>20              </td><td>183000          </td><td>2013-04-29      </td><td>2014-04-04      </td><td> 340            </td><td>13              </td><td>2               </td><td>37              </td></tr>\n",
       "\t<tr><td>927315          </td><td>4               </td><td>marketing       </td><td>14              </td><td>101000          </td><td>2014-10-13      </td><td>NA              </td><td>  NA            </td><td>NA              </td><td>1               </td><td>19              </td></tr>\n",
       "\t<tr><td>662910          </td><td>7               </td><td>customer_service</td><td>20              </td><td>115000          </td><td>2012-05-14      </td><td>2013-06-07      </td><td> 389            </td><td>22              </td><td>2               </td><td>23              </td></tr>\n",
       "\t<tr><td>256971          </td><td>2               </td><td>data_science    </td><td>23              </td><td>276000          </td><td>2011-10-17      </td><td>2014-08-22      </td><td>1040            </td><td>33              </td><td>1               </td><td>47              </td></tr>\n",
       "\t<tr><td>509529          </td><td>4               </td><td>data_science    </td><td>14              </td><td>165000          </td><td>2012-01-30      </td><td>2013-08-30      </td><td> 578            </td><td>34              </td><td>1               </td><td>34              </td></tr>\n",
       "</tbody>\n",
       "</table>\n"
      ],
      "text/latex": [
       "\\begin{tabular}{r|lllllllllll}\n",
       " employee\\_id & company\\_id & dept & seniority & salary & join\\_date & quit\\_date & employment\\_length & week\\_of\\_year & early\\_quitter & salary\\_percentile\\\\\n",
       "\\hline\n",
       "\t  13021             & 7                  & customer\\_service & 28                 &  89000             & 2014-03-24         & 2015-10-30         &  585               & 43                 & 1                  & 15                \\\\\n",
       "\t 825355           & 7                & marketing        & 20               & 183000           & 2013-04-29       & 2014-04-04       &  340             & 13               & 2                & 37              \\\\\n",
       "\t 927315           & 4                & marketing        & 14               & 101000           & 2014-10-13       & NA               &   NA             & NA               & 1                & 19              \\\\\n",
       "\t 662910             & 7                  & customer\\_service & 20                 & 115000             & 2012-05-14         & 2013-06-07         &  389               & 22                 & 2                  & 23                \\\\\n",
       "\t 256971             & 2                  & data\\_science     & 23                 & 276000             & 2011-10-17         & 2014-08-22         & 1040               & 33                 & 1                  & 47                \\\\\n",
       "\t 509529             & 4                  & data\\_science     & 14                 & 165000             & 2012-01-30         & 2013-08-30         &  578               & 34                 & 1                  & 34                \\\\\n",
       "\\end{tabular}\n"
      ],
      "text/markdown": [
       "\n",
       "employee_id | company_id | dept | seniority | salary | join_date | quit_date | employment_length | week_of_year | early_quitter | salary_percentile | \n",
       "|---|---|---|---|---|---|\n",
       "|  13021           | 7                | customer_service | 28               |  89000           | 2014-03-24       | 2015-10-30       |  585             | 43               | 1                | 15               | \n",
       "| 825355           | 7                | marketing        | 20               | 183000           | 2013-04-29       | 2014-04-04       |  340             | 13               | 2                | 37               | \n",
       "| 927315           | 4                | marketing        | 14               | 101000           | 2014-10-13       | NA               |   NA             | NA               | 1                | 19               | \n",
       "| 662910           | 7                | customer_service | 20               | 115000           | 2012-05-14       | 2013-06-07       |  389             | 22               | 2                | 23               | \n",
       "| 256971           | 2                | data_science     | 23               | 276000           | 2011-10-17       | 2014-08-22       | 1040             | 33               | 1                | 47               | \n",
       "| 509529           | 4                | data_science     | 14               | 165000           | 2012-01-30       | 2013-08-30       |  578             | 34               | 1                | 34               | \n",
       "\n",
       "\n"
      ],
      "text/plain": [
       "  employee_id company_id dept             seniority salary join_date \n",
       "1  13021      7          customer_service 28         89000 2014-03-24\n",
       "2 825355      7          marketing        20        183000 2013-04-29\n",
       "3 927315      4          marketing        14        101000 2014-10-13\n",
       "4 662910      7          customer_service 20        115000 2012-05-14\n",
       "5 256971      2          data_science     23        276000 2011-10-17\n",
       "6 509529      4          data_science     14        165000 2012-01-30\n",
       "  quit_date  employment_length week_of_year early_quitter salary_percentile\n",
       "1 2015-10-30  585              43           1             15               \n",
       "2 2014-04-04  340              13           2             37               \n",
       "3 <NA>         NA              NA           1             19               \n",
       "4 2013-06-07  389              22           2             23               \n",
       "5 2014-08-22 1040              33           1             47               \n",
       "6 2013-08-30  578              34           1             34               "
      ]
     },
     "metadata": {},
     "output_type": "display_data"
    }
   ],
   "source": [
    "head(data)"
   ]
  },
  {
   "cell_type": "code",
   "execution_count": 92,
   "metadata": {},
   "outputs": [
    {
     "data": {
      "text/plain": [
       "\n",
       "Call:\n",
       " randomForest(x = train_data[, c(4, 5)], y = train_data$early_quitter,      ntree = 100, mtry = 2, keep.forest = TRUE, y_test = test_data$early_quitter,      x_test = test_data[, c(4, 5)]) \n",
       "               Type of random forest: classification\n",
       "                     Number of trees: 100\n",
       "No. of variables tried at each split: 2\n",
       "\n",
       "        OOB estimate of  error rate: 36.89%\n",
       "Confusion matrix:\n",
       "     1    2 class.error\n",
       "1 7117 1823   0.2039150\n",
       "2 2869  909   0.7593965"
      ]
     },
     "metadata": {},
     "output_type": "display_data"
    }
   ],
   "source": [
    "rf2=randomForest(y=train_data$early_quitter,x=train_data[,c(3,4,5)],\n",
    "                 y_test=test_data$early_quitter,x_test=test_data[,c(3,4,5)],\n",
    "                 ntree=100,mtry=2,keep.forest = TRUE)\n",
    "rf2"
   ]
  },
  {
   "cell_type": "code",
   "execution_count": 93,
   "metadata": {},
   "outputs": [
    {
     "data": {
      "image/png": "[encoded data removed]",
      "text/plain": [
       "Plot with title \"rf2\""
      ]
     },
     "metadata": {},
     "output_type": "display_data"
    }
   ],
   "source": [
    "varImpPlot(rf2)"
   ]
  },
  {
   "cell_type": "code",
   "execution_count": 98,
   "metadata": {},
   "outputs": [
    {
     "data": {
      "image/png": "[encoded data removed]",
      "text/plain": [
       "Plot with title \"Partial Dependence on dept\""
      ]
     },
     "metadata": {},
     "output_type": "display_data"
    }
   ],
   "source": [
    "op=par(mfrow=c(3,1))\n",
    "partialPlot(rf2, train_data[,c(3,4,5)], salary, 1)\n",
    "partialPlot(rf2, train_data[,c(3,4,5)], seniority, 1)\n",
    "partialPlot(rf2, train_data[,c(3,4,5)], dept, 1)"
   ]
  },
  {
   "cell_type": "markdown",
   "metadata": {},
   "source": [
    "From the above analysis, we can find that:\n",
    "+ Salary and seniority are the two most important factors that will influence the employment retention.\n",
    "+ The factor of a department is not quite important and cannot predict the retention rate very well. "
   ]
  },
  {
   "cell_type": "markdown",
   "metadata": {},
   "source": [
    "## Actionable Insights and Discussion"
   ]
  },
  {
   "cell_type": "markdown",
   "metadata": {},
   "source": [
    "+ I can basically find that people in the mid-range of the salary have a high leave rate. So the human resource department should pay more attention to them and give them more support or make them feel supported in the company.\n",
    "+ I need to do further analyses regarding the salary optimization in the near future.\n",
    "+ The year anniversary and the beginning of the year is a sensitive time period, we should pay more attention to the group dynamics in the company."
   ]
  }
 ],
 "metadata": {
  "kernelspec": {
   "display_name": "R",
   "language": "R",
   "name": "ir"
  },
  "language_info": {
   "codemirror_mode": "r",
   "file_extension": ".r",
   "mimetype": "text/x-r-source",
   "name": "R",
   "pygments_lexer": "r",
   "version": "3.4.1"
  }
 },
 "nbformat": 4,
 "nbformat_minor": 2
}
